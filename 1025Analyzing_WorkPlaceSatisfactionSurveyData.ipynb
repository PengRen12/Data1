{
 "cells": [
  {
   "cell_type": "markdown",
   "metadata": {},
   "source": [
    "# Analyze Work Place Satisfaction Survey Data\n",
    "\n",
    "This notebook walks through an analysis of work palce satisfaction survey data. The data includes various demographic variables (like age, gender, family and education), as well assalary, sat_management, and more. We'll perform data cleaning, explore descriptive statistics, visualize the data, and examine the relationships between variables using cross-tabulation and hypothesis testing \n",
    "\n",
    "## Goals of the analysis:\n",
    "\n",
    "1. Un\n",
    "2. Vi\n",
    "3. Test \n",
    "4. fff"
   ]
  },
  {
   "cell_type": "code",
   "execution_count": null,
   "metadata": {},
   "outputs": [],
   "source": [
    "%pip install pandas\n"
   ]
  },
  {
   "cell_type": "code",
   "execution_count": null,
   "metadata": {},
   "outputs": [],
   "source": [
    "%pip install seaborn"
   ]
  },
  {
   "cell_type": "code",
   "execution_count": null,
   "metadata": {},
   "outputs": [],
   "source": [
    "import numpy as np\n",
    "import pandas as pd\n",
    "import matplotlib.pyplot as plt\n",
    "import seaborn as sns"
   ]
  },
  {
   "cell_type": "markdown",
   "metadata": {},
   "source": [
    "## Initial Exploration\n",
    "\n",
    "In this section, we load the data and take an initial look at the dataset to understand its structure and contents."
   ]
  },
  {
   "cell_type": "code",
   "execution_count": null,
   "metadata": {},
   "outputs": [],
   "source": [
    "# Pandas uses openpyxl to read Excel files.\n",
    "%pip install openpyxl\n"
   ]
  },
  {
   "cell_type": "code",
   "execution_count": null,
   "metadata": {},
   "outputs": [],
   "source": [
    "# Open the data\n",
    "df = pd.read_excel('WorkPlaceSatisfactionSurveyData.xlsx')\n",
    "df.head()"
   ]
  },
  {
   "cell_type": "markdown",
   "metadata": {},
   "source": [
    "## Data Cleaning\n",
    "\n",
    "Before the analysis, we clean the data. \n",
    "1. Drop unnecessary columns.\n",
    "2. Check for missing values.\n"
   ]
  },
  {
   "cell_type": "code",
   "execution_count": null,
   "metadata": {},
   "outputs": [],
   "source": [
    "df.isnull().sum()"
   ]
  },
  {
   "cell_type": "code",
   "execution_count": null,
   "metadata": {},
   "outputs": [],
   "source": [
    "# Drop unnecessary columns (like 'for columns: unmber,healthcare,holidayCabin,gym,muscleCare')\n",
    "df = df.drop(['number','healtcare','holidayCabin','gym','muscleCare'],axis=1)\n",
    "df.head()\n"
   ]
  },
  {
   "cell_type": "markdown",
   "metadata": {},
   "source": [
    "## Descriptive Statistics and Summary"
   ]
  },
  {
   "cell_type": "code",
   "execution_count": null,
   "metadata": {},
   "outputs": [],
   "source": [
    "# Get a summary of the data\n",
    "df.info()"
   ]
  },
  {
   "cell_type": "code",
   "execution_count": null,
   "metadata": {},
   "outputs": [],
   "source": [
    "# Display basic statistics for numerical columns\n",
    "df.describe()"
   ]
  },
  {
   "cell_type": "code",
   "execution_count": null,
   "metadata": {},
   "outputs": [],
   "source": [
    "# Handling missing values\n",
    "\n",
    "# education value drop the null row\n",
    "df = df.dropna(subset=['education'])\n",
    "\n",
    "# years_of_service values fill with median\n",
    "df['years_of_service'] = df['years_of_service'].fillna(df['years_of_service'].median())\n",
    "\n",
    "# sat_colleques fills with majority\n",
    "df['sat_colleques'] = df['sat_colleques'].fillna(df['sat_colleques'].mode()[0])\n"
   ]
  },
  {
   "cell_type": "code",
   "execution_count": null,
   "metadata": {},
   "outputs": [],
   "source": [
    "# Finding the 3 longest service years respondents based on years_of_service\n",
    "df.nlargest(n=3, columns='years_of_service')"
   ]
  },
  {
   "cell_type": "code",
   "execution_count": null,
   "metadata": {},
   "outputs": [],
   "source": [
    "# Finding the 3 shortest service years respondents based on years_of_service\n",
    "df.nsmallest(n=3, columns='years_of_service')"
   ]
  },
  {
   "cell_type": "code",
   "execution_count": null,
   "metadata": {},
   "outputs": [],
   "source": [
    "# Finding the 3 oldest respondents based on age\n",
    "df.nlargest(n=3, columns='age')"
   ]
  },
  {
   "cell_type": "code",
   "execution_count": null,
   "metadata": {},
   "outputs": [],
   "source": [
    "# Finding the 3 youngest respondents based on age\n",
    "df.nsmallest(n=3, columns='age')"
   ]
  },
  {
   "cell_type": "markdown",
   "metadata": {},
   "source": [
    "## Visualizations\n",
    "\n",
    "we create some visualizations to better understand the distribution of the data. "
   ]
  },
  {
   "cell_type": "markdown",
   "metadata": {},
   "source": [
    "### Investigating Qualitative Variables and Generating Frequency Tables"
   ]
  },
  {
   "cell_type": "code",
   "execution_count": null,
   "metadata": {},
   "outputs": [],
   "source": [
    "# Investigate a few qualitative variables and generate frequency table(s) for their values\n",
    "df1=pd.crosstab(df['education'], 'Count')\n",
    "# Labeling the index with meaningful education categories\n",
    "df1.index=['primary school','secondary school graduate','bachelor level','master level']\n",
    "# Remove the name of the columns\n",
    "df1.columns.name=''\n",
    "df1"
   ]
  },
  {
   "cell_type": "markdown",
   "metadata": {},
   "source": [
    "### Visualizing the Education Distribution\n",
    "\n",
    "1.we visualize the distribution using a horizontal bar chart. Bar charts are useful for comparing the sizes of different categories visually."
   ]
  },
  {
   "cell_type": "code",
   "execution_count": null,
   "metadata": {},
   "outputs": [],
   "source": [
    "sum(df1['Count'])"
   ]
  },
  {
   "cell_type": "code",
   "execution_count": null,
   "metadata": {},
   "outputs": [],
   "source": [
    "df1.plot.barh(legend = False)\n",
    "plt.title('Education distribution')\n",
    "plt.xlabel('Count, N = 81')\n"
   ]
  },
  {
   "cell_type": "markdown",
   "metadata": {},
   "source": [
    "2. Visualizing the Education Distribution with Percentages."
   ]
  },
  {
   "cell_type": "code",
   "execution_count": null,
   "metadata": {},
   "outputs": [],
   "source": [
    "df2 = pd.crosstab(df['education'], 'Count')\n",
    "df2['percentage'] = round(df2['Count'] / df2['Count'].sum() * 100,2)\n",
    "df2.index=['primary school','secondary school graduate','bachelor level','master level']\n",
    "df2.columns.name = ''\n",
    "df2"
   ]
  },
  {
   "cell_type": "code",
   "execution_count": null,
   "metadata": {},
   "outputs": [],
   "source": [
    "df2['percentage'].plot.barh(zorder = 2)\n",
    "plt.title('Education percentage distribution')\n",
    "\n",
    "plt.xlabel('percentage, n = ' + str(df2['Count'].sum()))\n",
    "\n",
    "plt.grid(axis = 'x')\n",
    "plt.tick_params(axis = 'y', length = 0)"
   ]
  },
  {
   "cell_type": "markdown",
   "metadata": {},
   "source": [
    "3. Visualizing the Salary Distribution."
   ]
  },
  {
   "cell_type": "code",
   "execution_count": null,
   "metadata": {},
   "outputs": [],
   "source": [
    "min(df['salary'])"
   ]
  },
  {
   "cell_type": "code",
   "execution_count": null,
   "metadata": {},
   "outputs": [],
   "source": [
    "max(df['salary'])"
   ]
  },
  {
   "cell_type": "code",
   "execution_count": null,
   "metadata": {},
   "outputs": [],
   "source": [
    "bins = [500,1000,3000,5000,6000,7000]\n",
    "df['salary_class'] = pd.cut(df['salary'], bins = bins)\n",
    "df.head()"
   ]
  },
  {
   "cell_type": "code",
   "execution_count": null,
   "metadata": {},
   "outputs": [],
   "source": [
    "df3 = pd.crosstab(df['salary_class'], 'Count')\n",
    "df3.columns.name = ''\n",
    "n = df3['Count'].sum()\n",
    "# add a percentage in the df3 table\n",
    "df3['percentage'] = round(df3['Count']/df3['Count'].sum() * 100,2)\n"
   ]
  },
  {
   "cell_type": "code",
   "execution_count": null,
   "metadata": {},
   "outputs": [],
   "source": [
    "type(df3.index.values[0])"
   ]
  },
  {
   "cell_type": "code",
   "execution_count": null,
   "metadata": {},
   "outputs": [],
   "source": [
    "\n",
    "df3.index = df3.index.astype(str)\n",
    "df3.loc['Total'] = df3.sum()\n",
    "df3"
   ]
  },
  {
   "cell_type": "markdown",
   "metadata": {},
   "source": []
  },
  {
   "cell_type": "code",
   "execution_count": null,
   "metadata": {},
   "outputs": [],
   "source": [
    "# Checking the Data Type of the Income Class Index\n",
    "type(df3.index.values[0])"
   ]
  },
  {
   "cell_type": "code",
   "execution_count": null,
   "metadata": {},
   "outputs": [],
   "source": [
    "pip install Jinja2\n"
   ]
  },
  {
   "cell_type": "code",
   "execution_count": null,
   "metadata": {},
   "outputs": [],
   "source": [
    "#Finalizing the layout\n",
    "df3.style.format({'Count': '{:.0f}', 'percentage': '{:.1f} %'})"
   ]
  },
  {
   "cell_type": "code",
   "execution_count": null,
   "metadata": {},
   "outputs": [],
   "source": [
    "# Creating a Histogram for salary Distribution (Counts)\n",
    "df['salary'].hist(bins = bins)\n",
    "plt.xlabel('salary')\n",
    "plt.ylabel('Count, n=' + str(n))"
   ]
  },
  {
   "cell_type": "code",
   "execution_count": null,
   "metadata": {},
   "outputs": [],
   "source": [
    "# relationship between salary and educations\n",
    "df4 = round(pd.crosstab(df['education'], df['gender'], normalize = 'columns') * 100,2)\n",
    "df4.index=['primary school','secondary school graduate','bachelor level','master level']\n",
    "df4.columns = ['woman', 'man']\n",
    "df4"
   ]
  },
  {
   "cell_type": "code",
   "execution_count": null,
   "metadata": {},
   "outputs": [],
   "source": [
    "# A horizontal bar chart is created to visualize the percentage distribution of education levels across genders.\n",
    "df4.plot.barh(legend = 'reverse')\n",
    "\n",
    "plt.xlabel('Percentages for gender')\n",
    "\n",
    "plt.grid(axis = 'y')"
   ]
  },
  {
   "cell_type": "code",
   "execution_count": null,
   "metadata": {},
   "outputs": [],
   "source": [
    "from scipy.stats import chi2_contingency\n",
    "\n",
    "\n",
    "chi2_contingency(df4)"
   ]
  },
  {
   "cell_type": "markdown",
   "metadata": {},
   "source": [
    "## Interpretation\n",
    "\n",
    "- Since the p-value (0.065) is greater than 0.05, the result suggests that there is no significant dependency between education level and gender in this dataset.\n",
    "\n",
    "- The observed distribution of education levels across genders is likely due to random variation and not due to a meaningful relationship."
   ]
  },
  {
   "cell_type": "markdown",
   "metadata": {},
   "source": [
    "# Du Xiaomeng"
   ]
  },
  {
   "cell_type": "markdown",
   "metadata": {},
   "source": [
    "# Descriptive Statistics and Summary"
   ]
  },
  {
   "cell_type": "code",
   "execution_count": null,
   "metadata": {},
   "outputs": [],
   "source": [
    "# Get a summary of the data\n",
    "df.info()"
   ]
  },
  {
   "cell_type": "code",
   "execution_count": null,
   "metadata": {},
   "outputs": [],
   "source": [
    "#Loop through variables to explore unique values\n",
    "for var in df:\n",
    "    print(f\"Column '{var}':\", df[var].unique())\n",
    "    print() "
   ]
  },
  {
   "cell_type": "code",
   "execution_count": null,
   "metadata": {},
   "outputs": [],
   "source": [
    "# Display the top 5 rows with the highest values in the salary column\n",
    "df.nlargest(5, 'salary')"
   ]
  },
  {
   "cell_type": "code",
   "execution_count": null,
   "metadata": {},
   "outputs": [],
   "source": [
    "# Display the top 5 rows with the lowest values in the salary column\n",
    "df.nsmallest(5, 'salary')"
   ]
  },
  {
   "cell_type": "code",
   "execution_count": null,
   "metadata": {},
   "outputs": [],
   "source": [
    "# Display the top 4 rows with the highest values in the education column\n",
    "df.nlargest(4, 'education')"
   ]
  },
  {
   "cell_type": "code",
   "execution_count": null,
   "metadata": {},
   "outputs": [],
   "source": [
    "# Display the top 4 rows with the lowest values in the education column\n",
    "df.nsmallest(4, 'education')"
   ]
  },
  {
   "cell_type": "markdown",
   "metadata": {},
   "source": [
    "## Visualizations"
   ]
  },
  {
   "cell_type": "code",
   "execution_count": null,
   "metadata": {},
   "outputs": [],
   "source": [
    "# Investigate a few qualitative variables and generate frequency table(s) for their values\n",
    "df5=pd.crosstab(df['sat_management'], 'Count')\n",
    "# Labeling the index with meaningful sat_management categories\n",
    "df5.index=['Very Unsatisfied', 'Unsatisfied', 'Neutral', 'Satisfied', 'Very Satisfied']\n",
    "# Remove the name of the columns\n",
    "df5.columns.name=''\n",
    "#Calculate the percentage and add it as a new column.\n",
    "df5['Percentage'] = (df5['Count'] / df5['Count'].sum() * 100).map(\"{:.2f}%\".format)\n",
    "df5"
   ]
  },
  {
   "cell_type": "markdown",
   "metadata": {},
   "source": [
    "### Visualizing the sat_management Distribution\n",
    "1.visualize the distribution with Percentages using a pie chart."
   ]
  },
  {
   "cell_type": "code",
   "execution_count": null,
   "metadata": {},
   "outputs": [],
   "source": [
    "import matplotlib.pyplot as plt\n",
    "\n",
    "plt.figure(figsize=(8, 8))\n",
    "plt.pie(df5['Count'], labels=df5.index, autopct='%1.2f%%', startangle=90)\n",
    "total_count = df5['Count'].sum()\n",
    "plt.title(f'Satisfaction Level Distribution')\n",
    "plt.axis('equal')\n",
    "plt.show()\n"
   ]
  },
  {
   "cell_type": "markdown",
   "metadata": {},
   "source": [
    "2.Visualizing the age Distribution."
   ]
  },
  {
   "cell_type": "code",
   "execution_count": null,
   "metadata": {},
   "outputs": [],
   "source": [
    "#Check min and max values of age using describe()\n",
    "df['age'].describe()"
   ]
  },
  {
   "cell_type": "code",
   "execution_count": null,
   "metadata": {},
   "outputs": [],
   "source": [
    "#using the default settings of hist() to observe data distribution\n",
    "plt.figure(figsize=(8, 6))\n",
    "plt.hist(df['age'], bins='auto')  \n",
    "plt.title('Age Distribution')\n",
    "plt.xlabel('Age')\n",
    "plt.ylabel('Frequency')\n",
    "plt.show()"
   ]
  },
  {
   "cell_type": "code",
   "execution_count": null,
   "metadata": {},
   "outputs": [],
   "source": [
    "df6 = pd.crosstab(df['age'], 'Count')\n",
    "bins = [18, 25, 35, 45, 60, 100]  \n",
    "labels = ['19-25', '26-35', '36-45', '46-60', '61-100']  \n",
    "df['age_group'] = pd.cut(df['age'], bins=bins, right=False, labels=labels)\n",
    "age_distribution = pd.crosstab(df['age_group'], 'Count')\n",
    "age_distribution['Percentage'] = (age_distribution['Count'] / age_distribution['Count'].sum()) * 100\n",
    "\n",
    "age_distribution['Percentage'] = age_distribution['Percentage'].map(\"{:.2f}%\".format)\n",
    "\n",
    "age_distribution"
   ]
  },
  {
   "cell_type": "code",
   "execution_count": null,
   "metadata": {},
   "outputs": [],
   "source": [
    "#Visualize age group frequency with a histogram\n",
    "n = df6['Count'].sum()\n",
    "df['age'].hist(bins = bins)\n",
    "plt.xlabel('age group')\n",
    "plt.ylabel('Count, n=' + str(n))\n",
    "plt.title('Age Group Frequency Distribution')"
   ]
  },
  {
   "cell_type": "code",
   "execution_count": null,
   "metadata": {},
   "outputs": [],
   "source": [
    "#Visualize age group percentage with a histogram\n",
    "bins = [18, 25, 35, 45, 60, 100]  \n",
    "labels = ['19-25', '26-35', '36-45', '46-60', '61-100']  \n",
    "df['age_group'] = pd.cut(df['age'], bins=bins, right=False, labels=labels)\n",
    "age_distribution = pd.crosstab(df['age_group'], 'Count')\n",
    "age_distribution['Percentage'] = (age_distribution['Count'] / age_distribution['Count'].sum()) * 100\n",
    "age_distribution['Percentage'] = age_distribution['Percentage'].map(\"{:.2f}%\".format)\n",
    "plt.figure(figsize=(8, 6))\n",
    "percentages = (age_distribution['Count'] / age_distribution['Count'].sum()) * 100\n",
    "plt.bar(age_distribution.index, percentages, color='blue', alpha=0.7, edgecolor='black')\n",
    "plt.yticks(range(0, 110, 10), [f\"{i}%\" for i in range(0, 110, 10)])\n",
    "plt.xlabel('Age Group')\n",
    "plt.ylabel('Percentage')\n",
    "plt.xlim(left=-0.5, right=len(age_distribution.index) - 0.5)\n",
    "plt.title('Age Group Percentage Distribution')\n",
    "plt.grid(axis='y')\n",
    "plt.show()"
   ]
  },
  {
   "cell_type": "code",
   "execution_count": null,
   "metadata": {},
   "outputs": [],
   "source": [
    "# relationship between education and sat_salary\n",
    "df7 = round(pd.crosstab(df['education'], df['sat_management'], normalize = 'columns') * 100,2)\n",
    "df7.index=['primary school','secondary school graduate','bachelor level','master level']\n",
    "df7.columns = ['Very Unsatisfied', 'Unsatisfied', 'Neutral', 'Satisfied', 'Very Satisfied']\n",
    "df7"
   ]
  },
  {
   "cell_type": "code",
   "execution_count": null,
   "metadata": {},
   "outputs": [],
   "source": [
    "df7.plot.barh(legend = 'reverse')\n",
    "\n",
    "plt.xlabel('Percentages for education')\n",
    "\n",
    "plt.grid(axis = 'y')"
   ]
  },
  {
   "cell_type": "code",
   "execution_count": null,
   "metadata": {},
   "outputs": [],
   "source": [
    "from scipy.stats import chi2_contingency\n",
    "\n",
    "\n",
    "chi2_contingency(df7)"
   ]
  },
  {
   "cell_type": "markdown",
   "metadata": {},
   "source": [
    "## Interpretation\n",
    "\n",
    "- Since the p-value (4.090) is greater than 0.05, the result suggests that there is no significant dependency between education level and sat_salary in this dataset.\n",
    "\n",
    "- The observed distribution of sat_salary across education levels is likely due to random variation and not due to a meaningful relationship."
   ]
  },
  {
   "cell_type": "markdown",
   "metadata": {},
   "source": [
    "## Peng Ren"
   ]
  },
  {
   "cell_type": "markdown",
   "metadata": {},
   "source": [
    "Analyzing Variable Distributions\n",
    "1. Initial Variable Distributions"
   ]
  },
  {
   "cell_type": "code",
   "execution_count": 3,
   "metadata": {},
   "outputs": [
    {
     "ename": "NameError",
     "evalue": "name 'df' is not defined",
     "output_type": "error",
     "traceback": [
      "\u001b[1;31m---------------------------------------------------------------------------\u001b[0m",
      "\u001b[1;31mNameError\u001b[0m                                 Traceback (most recent call last)",
      "\u001b[1;32mc:\\Users\\Sawada\\Desktop\\材料\\data-process-main\\1025Analyzing_WorkPlaceSatisfactionSurveyData.ipynb Cell 68\u001b[0m line \u001b[0;36m9\n\u001b[0;32m      <a href='vscode-notebook-cell:/c%3A/Users/Sawada/Desktop/%E6%9D%90%E6%96%99/data-process-main/1025Analyzing_WorkPlaceSatisfactionSurveyData.ipynb#Y124sZmlsZQ%3D%3D?line=6'>7</a>\u001b[0m \u001b[39mfor\u001b[39;00m var \u001b[39min\u001b[39;00m categorical_vars:\n\u001b[0;32m      <a href='vscode-notebook-cell:/c%3A/Users/Sawada/Desktop/%E6%9D%90%E6%96%99/data-process-main/1025Analyzing_WorkPlaceSatisfactionSurveyData.ipynb#Y124sZmlsZQ%3D%3D?line=7'>8</a>\u001b[0m     plt\u001b[39m.\u001b[39mfigure(figsize\u001b[39m=\u001b[39m(\u001b[39m6\u001b[39m, \u001b[39m4\u001b[39m))\n\u001b[1;32m----> <a href='vscode-notebook-cell:/c%3A/Users/Sawada/Desktop/%E6%9D%90%E6%96%99/data-process-main/1025Analyzing_WorkPlaceSatisfactionSurveyData.ipynb#Y124sZmlsZQ%3D%3D?line=8'>9</a>\u001b[0m     sns\u001b[39m.\u001b[39mcountplot(x\u001b[39m=\u001b[39mvar, data\u001b[39m=\u001b[39mdf)\n\u001b[0;32m     <a href='vscode-notebook-cell:/c%3A/Users/Sawada/Desktop/%E6%9D%90%E6%96%99/data-process-main/1025Analyzing_WorkPlaceSatisfactionSurveyData.ipynb#Y124sZmlsZQ%3D%3D?line=9'>10</a>\u001b[0m     plt\u001b[39m.\u001b[39mtitle(\u001b[39mf\u001b[39m\u001b[39m'\u001b[39m\u001b[39mDistribution of \u001b[39m\u001b[39m{\u001b[39;00mvar\u001b[39m}\u001b[39;00m\u001b[39m'\u001b[39m)\n\u001b[0;32m     <a href='vscode-notebook-cell:/c%3A/Users/Sawada/Desktop/%E6%9D%90%E6%96%99/data-process-main/1025Analyzing_WorkPlaceSatisfactionSurveyData.ipynb#Y124sZmlsZQ%3D%3D?line=10'>11</a>\u001b[0m     plt\u001b[39m.\u001b[39mxlabel(var\u001b[39m.\u001b[39mcapitalize())\n",
      "\u001b[1;31mNameError\u001b[0m: name 'df' is not defined"
     ]
    },
    {
     "data": {
      "text/plain": [
       "<Figure size 600x400 with 0 Axes>"
      ]
     },
     "metadata": {},
     "output_type": "display_data"
    }
   ],
   "source": [
    "# Importing visualization libraries\n",
    "import matplotlib.pyplot as plt\n",
    "import seaborn as sns\n",
    "\n",
    "# Categorical variable distributions\n",
    "categorical_vars = ['gender', 'family', 'education']\n",
    "for var in categorical_vars:\n",
    "    plt.figure(figsize=(6, 4))\n",
    "    sns.countplot(x=var, data=df)\n",
    "    plt.title(f'Distribution of {var}')\n",
    "    plt.xlabel(var.capitalize())\n",
    "    plt.ylabel('Frequency')\n",
    "    plt.show()\n",
    "\n",
    "# Numerical variable distributions\n",
    "numerical_vars = ['age', 'salary', 'years_of_service']\n",
    "for var in numerical_vars:\n",
    "    plt.figure(figsize=(6, 4))\n",
    "    sns.histplot(df[var], kde=True)\n",
    "    plt.title(f'Distribution of {var}')\n",
    "    plt.xlabel(var.capitalize())\n",
    "    plt.ylabel('Frequency')\n",
    "    plt.show()\n"
   ]
  },
  {
   "cell_type": "code",
   "execution_count": 2,
   "metadata": {},
   "outputs": [
    {
     "ename": "NameError",
     "evalue": "name 'df' is not defined",
     "output_type": "error",
     "traceback": [
      "\u001b[1;31m---------------------------------------------------------------------------\u001b[0m",
      "\u001b[1;31mNameError\u001b[0m                                 Traceback (most recent call last)",
      "\u001b[1;32mc:\\Users\\Sawada\\Desktop\\材料\\data-process-main\\1025Analyzing_WorkPlaceSatisfactionSurveyData.ipynb Cell 69\u001b[0m line \u001b[0;36m2\n\u001b[0;32m     <a href='vscode-notebook-cell:/c%3A/Users/Sawada/Desktop/%E6%9D%90%E6%96%99/data-process-main/1025Analyzing_WorkPlaceSatisfactionSurveyData.ipynb#Y134sZmlsZQ%3D%3D?line=23'>24</a>\u001b[0m categorical_vars \u001b[39m=\u001b[39m [\u001b[39m'\u001b[39m\u001b[39mgender\u001b[39m\u001b[39m'\u001b[39m, \u001b[39m'\u001b[39m\u001b[39mfamily\u001b[39m\u001b[39m'\u001b[39m, \u001b[39m'\u001b[39m\u001b[39meducation\u001b[39m\u001b[39m'\u001b[39m, \u001b[39m'\u001b[39m\u001b[39msat_management\u001b[39m\u001b[39m'\u001b[39m, \u001b[39m'\u001b[39m\u001b[39msat_colleques\u001b[39m\u001b[39m'\u001b[39m, \n\u001b[0;32m     <a href='vscode-notebook-cell:/c%3A/Users/Sawada/Desktop/%E6%9D%90%E6%96%99/data-process-main/1025Analyzing_WorkPlaceSatisfactionSurveyData.ipynb#Y134sZmlsZQ%3D%3D?line=24'>25</a>\u001b[0m                     \u001b[39m'\u001b[39m\u001b[39msat_workingEnvironment\u001b[39m\u001b[39m'\u001b[39m, \u001b[39m'\u001b[39m\u001b[39msat_salary\u001b[39m\u001b[39m'\u001b[39m, \u001b[39m'\u001b[39m\u001b[39msat_tasks\u001b[39m\u001b[39m'\u001b[39m]\n\u001b[0;32m     <a href='vscode-notebook-cell:/c%3A/Users/Sawada/Desktop/%E6%9D%90%E6%96%99/data-process-main/1025Analyzing_WorkPlaceSatisfactionSurveyData.ipynb#Y134sZmlsZQ%3D%3D?line=25'>26</a>\u001b[0m \u001b[39mfor\u001b[39;00m cat_var \u001b[39min\u001b[39;00m categorical_vars:\n\u001b[1;32m---> <a href='vscode-notebook-cell:/c%3A/Users/Sawada/Desktop/%E6%9D%90%E6%96%99/data-process-main/1025Analyzing_WorkPlaceSatisfactionSurveyData.ipynb#Y134sZmlsZQ%3D%3D?line=26'>27</a>\u001b[0m     plot_categorical_distribution(cat_var, df, \u001b[39m\"\u001b[39m\u001b[39mP\u001b[39m\u001b[39m'\u001b[39m\u001b[39ms Analysis\u001b[39m\u001b[39m\"\u001b[39m)\n\u001b[0;32m     <a href='vscode-notebook-cell:/c%3A/Users/Sawada/Desktop/%E6%9D%90%E6%96%99/data-process-main/1025Analyzing_WorkPlaceSatisfactionSurveyData.ipynb#Y134sZmlsZQ%3D%3D?line=28'>29</a>\u001b[0m \u001b[39m# Examining distributions of numerical variables\u001b[39;00m\n\u001b[0;32m     <a href='vscode-notebook-cell:/c%3A/Users/Sawada/Desktop/%E6%9D%90%E6%96%99/data-process-main/1025Analyzing_WorkPlaceSatisfactionSurveyData.ipynb#Y134sZmlsZQ%3D%3D?line=29'>30</a>\u001b[0m numerical_vars \u001b[39m=\u001b[39m [\u001b[39m'\u001b[39m\u001b[39mage\u001b[39m\u001b[39m'\u001b[39m, \u001b[39m'\u001b[39m\u001b[39myears_of_service\u001b[39m\u001b[39m'\u001b[39m, \u001b[39m'\u001b[39m\u001b[39msalary\u001b[39m\u001b[39m'\u001b[39m]\n",
      "\u001b[1;31mNameError\u001b[0m: name 'df' is not defined"
     ]
    }
   ],
   "source": [
    "import matplotlib.pyplot as plt\n",
    "import seaborn as sns\n",
    "\n",
    "# Setting style for visuals\n",
    "sns.set(style=\"whitegrid\")\n",
    "# Function for plotting categorical and numerical variable distributions\n",
    "def plot_categorical_distribution(column_name, data, title):\n",
    "    plt.figure(figsize=(8, 5))\n",
    "    sns.countplot(data[column_name])\n",
    "    plt.title(f'{title} - {column_name}')\n",
    "    plt.xlabel(column_name)\n",
    "    plt.ylabel('Frequency')\n",
    "    plt.show()\n",
    "\n",
    "def plot_numerical_distribution(column_name, data, title):\n",
    "    plt.figure(figsize=(8, 5))\n",
    "    sns.histplot(data[column_name].dropna(), kde=True)\n",
    "    plt.title(f'{title} - {column_name}')\n",
    "    plt.xlabel(column_name)\n",
    "    plt.ylabel('Frequency')\n",
    "    plt.show()\n",
    "\n",
    "# Examining distributions of categorical variables\n",
    "categorical_vars = ['gender', 'family', 'education', 'sat_management', 'sat_colleques', \n",
    "                    'sat_workingEnvironment', 'sat_salary', 'sat_tasks']\n",
    "for cat_var in categorical_vars:\n",
    "    plot_categorical_distribution(cat_var, df, \"P's Analysis\")\n",
    "\n",
    "# Examining distributions of numerical variables\n",
    "numerical_vars = ['age', 'years_of_service', 'salary']\n",
    "for num_var in numerical_vars:\n",
    "    plot_numerical_distribution(num_var, df, \"P's Analysis\")"
   ]
  },
  {
   "cell_type": "markdown",
   "metadata": {},
   "source": [
    "2. Descriptive Statistics for Numerical Variables\n",
    "Using describe(), we can calculate mean, media"
   ]
  },
  {
   "cell_type": "code",
   "execution_count": 1,
   "metadata": {},
   "outputs": [
    {
     "ename": "NameError",
     "evalue": "name 'df' is not defined",
     "output_type": "error",
     "traceback": [
      "\u001b[1;31m---------------------------------------------------------------------------\u001b[0m",
      "\u001b[1;31mNameError\u001b[0m                                 Traceback (most recent call last)",
      "\u001b[1;32mc:\\Users\\Sawada\\Desktop\\材料\\data-process-main\\1025Analyzing_WorkPlaceSatisfactionSurveyData.ipynb Cell 71\u001b[0m line \u001b[0;36m2\n\u001b[0;32m      <a href='vscode-notebook-cell:/c%3A/Users/Sawada/Desktop/%E6%9D%90%E6%96%99/data-process-main/1025Analyzing_WorkPlaceSatisfactionSurveyData.ipynb#Y130sZmlsZQ%3D%3D?line=0'>1</a>\u001b[0m \u001b[39m# Descriptive statistics for numerical variables\u001b[39;00m\n\u001b[1;32m----> <a href='vscode-notebook-cell:/c%3A/Users/Sawada/Desktop/%E6%9D%90%E6%96%99/data-process-main/1025Analyzing_WorkPlaceSatisfactionSurveyData.ipynb#Y130sZmlsZQ%3D%3D?line=1'>2</a>\u001b[0m df[numerical_vars]\u001b[39m.\u001b[39mdescribe()\n",
      "\u001b[1;31mNameError\u001b[0m: name 'df' is not defined"
     ]
    }
   ],
   "source": [
    "# Descriptive statistics for numerical variables\n",
    "df[numerical_vars].describe()"
   ]
  },
  {
   "cell_type": "markdown",
   "metadata": {},
   "source": [
    "Crosstab Analysis of Categorical Variables\n",
    "1. Gender and Education Crosstab"
   ]
  },
  {
   "cell_type": "code",
   "execution_count": null,
   "metadata": {},
   "outputs": [],
   "source": [
    "# Crosstab for gender and education\n",
    "gender_education_ct = pd.crosstab(df['gender'], df['education'], normalize='index') * 100\n",
    "print(\"Gender vs. Education Crosstab (Percentages):\")\n",
    "print(gender_education_ct)\n",
    "\n",
    "# Visualization of crosstab\n",
    "gender_education_ct.plot(kind='bar', stacked=True)\n",
    "plt.title('Gender vs. Education')\n",
    "plt.xlabel('Gender')\n",
    "plt.ylabel('Percentage')\n",
    "plt.legend(title='Education Level')\n",
    "plt.show()\n"
   ]
  },
  {
   "cell_type": "markdown",
   "metadata": {},
   "source": [
    "2. Family Status and Job Satisfaction Crosstab"
   ]
  },
  {
   "cell_type": "code",
   "execution_count": null,
   "metadata": {},
   "outputs": [],
   "source": [
    "# Crosstab for family and satisfaction with management\n",
    "family_management_ct = pd.crosstab(df['family'], df['sat_management'], normalize='index') * 100\n",
    "print(\"Family Status vs. Management Satisfaction Crosstab (Percentages):\")\n",
    "print(family_management_ct)\n",
    "\n",
    "# Visualization of crosstab\n",
    "family_management_ct.plot(kind='bar', stacked=True, colormap='viridis')\n",
    "plt.title('Family Status vs. Management Satisfaction')\n",
    "plt.xlabel('Family Status')\n",
    "plt.ylabel('Percentage')\n",
    "plt.legend(title='Management Satisfaction Level')\n",
    "plt.show()\n"
   ]
  },
  {
   "cell_type": "markdown",
   "metadata": {},
   "source": [
    "## Summary of Findings\n",
    "Variable Distributions: The distributions indicate (brief findings about each variable’s trend).\n",
    "\n",
    "Crosstab Insights:\n",
    "Gender & Education: Observations about any patterns, if visible.\n",
    "\n",
    "\n",
    "Family Status & Management Satisfaction: Observations on relationships between family status and satisfaction levels."
   ]
  }
 ],
 "metadata": {
  "kernelspec": {
   "display_name": "Python 3",
   "language": "python",
   "name": "python3"
  },
  "language_info": {
   "codemirror_mode": {
    "name": "ipython",
    "version": 3
   },
   "file_extension": ".py",
   "mimetype": "text/x-python",
   "name": "python",
   "nbconvert_exporter": "python",
   "pygments_lexer": "ipython3",
   "version": "3.12.0"
  }
 },
 "nbformat": 4,
 "nbformat_minor": 2
}
